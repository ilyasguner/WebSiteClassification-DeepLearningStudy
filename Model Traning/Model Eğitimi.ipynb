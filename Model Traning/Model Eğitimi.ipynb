{
  "cells": [
    {
      "cell_type": "code",
      "source": [
        "import pandas as pd\n",
        "import numpy as np\n",
        "from sklearn.model_selection import train_test_split\n",
        "from sklearn.preprocessing import StandardScaler\n",
        "from tensorflow.keras.models import Sequential\n",
        "from tensorflow.keras.layers import Dense\n",
        "from tensorflow.keras.utils import to_categorical"
      ],
      "metadata": {
        "id": "c437koKRV2p4"
      },
      "execution_count": 43,
      "outputs": []
    },
    {
      "cell_type": "code",
      "source": [
        "data = pd.read_csv(\"/web_features_preprocessing_data (1).csv\")"
      ],
      "metadata": {
        "id": "TSyqIljuV3kX"
      },
      "execution_count": 44,
      "outputs": []
    },
    {
      "cell_type": "code",
      "source": [
        "data = data.drop(index=0)"
      ],
      "metadata": {
        "id": "8u7pq3NHZjpb"
      },
      "execution_count": 45,
      "outputs": []
    },
    {
      "cell_type": "code",
      "source": [
        "X = data.iloc[:, :-1].values  # Özellikler\n",
        "y = data.iloc[:, -1].values"
      ],
      "metadata": {
        "id": "84K7l_LeXceI"
      },
      "execution_count": 46,
      "outputs": []
    },
    {
      "cell_type": "code",
      "source": [
        "y = to_categorical(y)"
      ],
      "metadata": {
        "id": "Jhom_C51XchQ"
      },
      "execution_count": 47,
      "outputs": []
    },
    {
      "cell_type": "code",
      "source": [
        "X_train, X_test, y_train, y_test = train_test_split(X, y, test_size=0.2, random_state=42)"
      ],
      "metadata": {
        "id": "ktkTIyvaZpC4"
      },
      "execution_count": 48,
      "outputs": []
    },
    {
      "cell_type": "code",
      "source": [
        "scaler = StandardScaler()\n",
        "X_train = scaler.fit_transform(X_train)\n",
        "X_test = scaler.transform(X_test)"
      ],
      "metadata": {
        "id": "LxcbcQowZ0Wo"
      },
      "execution_count": 49,
      "outputs": []
    },
    {
      "cell_type": "code",
      "source": [
        "model = Sequential()\n",
        "model.add(Dense(128, activation='relu', input_shape=(X_train.shape[1],)))\n",
        "model.add(Dense(64, activation='relu'))\n",
        "model.add(Dense(32, activation='relu'))\n",
        "model.add(Dense(y.shape[1], activation='softmax'))  # Çıkış katmanı için softmax"
      ],
      "metadata": {
        "colab": {
          "base_uri": "https://localhost:8080/"
        },
        "id": "uJdT1LW0Z2e5",
        "outputId": "3889da27-ef2a-4754-86be-7f22e73808bf"
      },
      "execution_count": 21,
      "outputs": [
        {
          "output_type": "stream",
          "name": "stderr",
          "text": [
            "/usr/local/lib/python3.10/dist-packages/keras/src/layers/core/dense.py:87: UserWarning: Do not pass an `input_shape`/`input_dim` argument to a layer. When using Sequential models, prefer using an `Input(shape)` object as the first layer in the model instead.\n",
            "  super().__init__(activity_regularizer=activity_regularizer, **kwargs)\n"
          ]
        }
      ]
    },
    {
      "cell_type": "code",
      "source": [
        "model.compile(optimizer='adam', loss='categorical_crossentropy', metrics=['accuracy'])"
      ],
      "metadata": {
        "id": "bDQIcPemZ500"
      },
      "execution_count": 22,
      "outputs": []
    },
    {
      "cell_type": "code",
      "source": [
        "model.fit(X_train, y_train, epochs=50, batch_size=32, validation_split=0.2)"
      ],
      "metadata": {
        "colab": {
          "base_uri": "https://localhost:8080/"
        },
        "id": "VNd8f0neZ78F",
        "outputId": "b6f9d461-389d-41cb-9079-cb5092efeb9c"
      },
      "execution_count": 23,
      "outputs": [
        {
          "output_type": "stream",
          "name": "stdout",
          "text": [
            "Epoch 1/50\n",
            "\u001b[1m658/658\u001b[0m \u001b[32m━━━━━━━━━━━━━━━━━━━━\u001b[0m\u001b[37m\u001b[0m \u001b[1m2s\u001b[0m 1ms/step - accuracy: 0.6080 - loss: 0.9137 - val_accuracy: 0.6565 - val_loss: 0.7877\n",
            "Epoch 2/50\n",
            "\u001b[1m658/658\u001b[0m \u001b[32m━━━━━━━━━━━━━━━━━━━━\u001b[0m\u001b[37m\u001b[0m \u001b[1m1s\u001b[0m 1ms/step - accuracy: 0.6662 - loss: 0.7622 - val_accuracy: 0.6565 - val_loss: 0.7809\n",
            "Epoch 3/50\n",
            "\u001b[1m658/658\u001b[0m \u001b[32m━━━━━━━━━━━━━━━━━━━━\u001b[0m\u001b[37m\u001b[0m \u001b[1m1s\u001b[0m 1ms/step - accuracy: 0.6708 - loss: 0.7444 - val_accuracy: 0.6620 - val_loss: 0.7688\n",
            "Epoch 4/50\n",
            "\u001b[1m658/658\u001b[0m \u001b[32m━━━━━━━━━━━━━━━━━━━━\u001b[0m\u001b[37m\u001b[0m \u001b[1m1s\u001b[0m 1ms/step - accuracy: 0.6828 - loss: 0.7238 - val_accuracy: 0.6628 - val_loss: 0.7621\n",
            "Epoch 5/50\n",
            "\u001b[1m658/658\u001b[0m \u001b[32m━━━━━━━━━━━━━━━━━━━━\u001b[0m\u001b[37m\u001b[0m \u001b[1m2s\u001b[0m 2ms/step - accuracy: 0.6869 - loss: 0.7192 - val_accuracy: 0.6714 - val_loss: 0.7547\n",
            "Epoch 6/50\n",
            "\u001b[1m658/658\u001b[0m \u001b[32m━━━━━━━━━━━━━━━━━━━━\u001b[0m\u001b[37m\u001b[0m \u001b[1m1s\u001b[0m 2ms/step - accuracy: 0.6873 - loss: 0.7101 - val_accuracy: 0.6668 - val_loss: 0.7575\n",
            "Epoch 7/50\n",
            "\u001b[1m658/658\u001b[0m \u001b[32m━━━━━━━━━━━━━━━━━━━━\u001b[0m\u001b[37m\u001b[0m \u001b[1m1s\u001b[0m 1ms/step - accuracy: 0.6948 - loss: 0.7047 - val_accuracy: 0.6605 - val_loss: 0.7738\n",
            "Epoch 8/50\n",
            "\u001b[1m658/658\u001b[0m \u001b[32m━━━━━━━━━━━━━━━━━━━━\u001b[0m\u001b[37m\u001b[0m \u001b[1m1s\u001b[0m 1ms/step - accuracy: 0.6891 - loss: 0.7037 - val_accuracy: 0.6715 - val_loss: 0.7564\n",
            "Epoch 9/50\n",
            "\u001b[1m658/658\u001b[0m \u001b[32m━━━━━━━━━━━━━━━━━━━━\u001b[0m\u001b[37m\u001b[0m \u001b[1m1s\u001b[0m 1ms/step - accuracy: 0.6992 - loss: 0.6928 - val_accuracy: 0.6710 - val_loss: 0.7649\n",
            "Epoch 10/50\n",
            "\u001b[1m658/658\u001b[0m \u001b[32m━━━━━━━━━━━━━━━━━━━━\u001b[0m\u001b[37m\u001b[0m \u001b[1m1s\u001b[0m 1ms/step - accuracy: 0.6976 - loss: 0.6845 - val_accuracy: 0.6660 - val_loss: 0.7726\n",
            "Epoch 11/50\n",
            "\u001b[1m658/658\u001b[0m \u001b[32m━━━━━━━━━━━━━━━━━━━━\u001b[0m\u001b[37m\u001b[0m \u001b[1m1s\u001b[0m 1ms/step - accuracy: 0.7041 - loss: 0.6896 - val_accuracy: 0.6704 - val_loss: 0.7517\n",
            "Epoch 12/50\n",
            "\u001b[1m658/658\u001b[0m \u001b[32m━━━━━━━━━━━━━━━━━━━━\u001b[0m\u001b[37m\u001b[0m \u001b[1m1s\u001b[0m 1ms/step - accuracy: 0.7044 - loss: 0.6786 - val_accuracy: 0.6731 - val_loss: 0.7562\n",
            "Epoch 13/50\n",
            "\u001b[1m658/658\u001b[0m \u001b[32m━━━━━━━━━━━━━━━━━━━━\u001b[0m\u001b[37m\u001b[0m \u001b[1m1s\u001b[0m 1ms/step - accuracy: 0.7045 - loss: 0.6734 - val_accuracy: 0.6584 - val_loss: 0.7706\n",
            "Epoch 14/50\n",
            "\u001b[1m658/658\u001b[0m \u001b[32m━━━━━━━━━━━━━━━━━━━━\u001b[0m\u001b[37m\u001b[0m \u001b[1m1s\u001b[0m 1ms/step - accuracy: 0.7122 - loss: 0.6590 - val_accuracy: 0.6632 - val_loss: 0.7610\n",
            "Epoch 15/50\n",
            "\u001b[1m658/658\u001b[0m \u001b[32m━━━━━━━━━━━━━━━━━━━━\u001b[0m\u001b[37m\u001b[0m \u001b[1m2s\u001b[0m 2ms/step - accuracy: 0.7179 - loss: 0.6577 - val_accuracy: 0.6691 - val_loss: 0.7599\n",
            "Epoch 16/50\n",
            "\u001b[1m658/658\u001b[0m \u001b[32m━━━━━━━━━━━━━━━━━━━━\u001b[0m\u001b[37m\u001b[0m \u001b[1m2s\u001b[0m 3ms/step - accuracy: 0.7153 - loss: 0.6527 - val_accuracy: 0.6630 - val_loss: 0.7834\n",
            "Epoch 17/50\n",
            "\u001b[1m658/658\u001b[0m \u001b[32m━━━━━━━━━━━━━━━━━━━━\u001b[0m\u001b[37m\u001b[0m \u001b[1m2s\u001b[0m 2ms/step - accuracy: 0.7190 - loss: 0.6531 - val_accuracy: 0.6691 - val_loss: 0.7791\n",
            "Epoch 18/50\n",
            "\u001b[1m658/658\u001b[0m \u001b[32m━━━━━━━━━━━━━━━━━━━━\u001b[0m\u001b[37m\u001b[0m \u001b[1m1s\u001b[0m 1ms/step - accuracy: 0.7179 - loss: 0.6562 - val_accuracy: 0.6626 - val_loss: 0.7650\n",
            "Epoch 19/50\n",
            "\u001b[1m658/658\u001b[0m \u001b[32m━━━━━━━━━━━━━━━━━━━━\u001b[0m\u001b[37m\u001b[0m \u001b[1m1s\u001b[0m 1ms/step - accuracy: 0.7212 - loss: 0.6365 - val_accuracy: 0.6615 - val_loss: 0.7686\n",
            "Epoch 20/50\n",
            "\u001b[1m658/658\u001b[0m \u001b[32m━━━━━━━━━━━━━━━━━━━━\u001b[0m\u001b[37m\u001b[0m \u001b[1m1s\u001b[0m 1ms/step - accuracy: 0.7315 - loss: 0.6339 - val_accuracy: 0.6674 - val_loss: 0.7770\n",
            "Epoch 21/50\n",
            "\u001b[1m658/658\u001b[0m \u001b[32m━━━━━━━━━━━━━━━━━━━━\u001b[0m\u001b[37m\u001b[0m \u001b[1m1s\u001b[0m 1ms/step - accuracy: 0.7221 - loss: 0.6375 - val_accuracy: 0.6607 - val_loss: 0.7935\n",
            "Epoch 22/50\n",
            "\u001b[1m658/658\u001b[0m \u001b[32m━━━━━━━━━━━━━━━━━━━━\u001b[0m\u001b[37m\u001b[0m \u001b[1m1s\u001b[0m 1ms/step - accuracy: 0.7291 - loss: 0.6236 - val_accuracy: 0.6696 - val_loss: 0.7855\n",
            "Epoch 23/50\n",
            "\u001b[1m658/658\u001b[0m \u001b[32m━━━━━━━━━━━━━━━━━━━━\u001b[0m\u001b[37m\u001b[0m \u001b[1m1s\u001b[0m 1ms/step - accuracy: 0.7379 - loss: 0.6144 - val_accuracy: 0.6639 - val_loss: 0.7838\n",
            "Epoch 24/50\n",
            "\u001b[1m658/658\u001b[0m \u001b[32m━━━━━━━━━━━━━━━━━━━━\u001b[0m\u001b[37m\u001b[0m \u001b[1m1s\u001b[0m 2ms/step - accuracy: 0.7364 - loss: 0.6205 - val_accuracy: 0.6619 - val_loss: 0.7917\n",
            "Epoch 25/50\n",
            "\u001b[1m658/658\u001b[0m \u001b[32m━━━━━━━━━━━━━━━━━━━━\u001b[0m\u001b[37m\u001b[0m \u001b[1m1s\u001b[0m 2ms/step - accuracy: 0.7352 - loss: 0.6107 - val_accuracy: 0.6537 - val_loss: 0.8233\n",
            "Epoch 26/50\n",
            "\u001b[1m658/658\u001b[0m \u001b[32m━━━━━━━━━━━━━━━━━━━━\u001b[0m\u001b[37m\u001b[0m \u001b[1m1s\u001b[0m 1ms/step - accuracy: 0.7379 - loss: 0.6164 - val_accuracy: 0.6638 - val_loss: 0.7881\n",
            "Epoch 27/50\n",
            "\u001b[1m658/658\u001b[0m \u001b[32m━━━━━━━━━━━━━━━━━━━━\u001b[0m\u001b[37m\u001b[0m \u001b[1m1s\u001b[0m 1ms/step - accuracy: 0.7436 - loss: 0.5962 - val_accuracy: 0.6609 - val_loss: 0.8145\n",
            "Epoch 28/50\n",
            "\u001b[1m658/658\u001b[0m \u001b[32m━━━━━━━━━━━━━━━━━━━━\u001b[0m\u001b[37m\u001b[0m \u001b[1m1s\u001b[0m 1ms/step - accuracy: 0.7431 - loss: 0.5952 - val_accuracy: 0.6700 - val_loss: 0.8127\n",
            "Epoch 29/50\n",
            "\u001b[1m658/658\u001b[0m \u001b[32m━━━━━━━━━━━━━━━━━━━━\u001b[0m\u001b[37m\u001b[0m \u001b[1m1s\u001b[0m 1ms/step - accuracy: 0.7483 - loss: 0.5870 - val_accuracy: 0.6607 - val_loss: 0.8292\n",
            "Epoch 30/50\n",
            "\u001b[1m658/658\u001b[0m \u001b[32m━━━━━━━━━━━━━━━━━━━━\u001b[0m\u001b[37m\u001b[0m \u001b[1m1s\u001b[0m 1ms/step - accuracy: 0.7488 - loss: 0.5870 - val_accuracy: 0.6649 - val_loss: 0.8257\n",
            "Epoch 31/50\n",
            "\u001b[1m658/658\u001b[0m \u001b[32m━━━━━━━━━━━━━━━━━━━━\u001b[0m\u001b[37m\u001b[0m \u001b[1m1s\u001b[0m 1ms/step - accuracy: 0.7564 - loss: 0.5735 - val_accuracy: 0.6577 - val_loss: 0.8142\n",
            "Epoch 32/50\n",
            "\u001b[1m658/658\u001b[0m \u001b[32m━━━━━━━━━━━━━━━━━━━━\u001b[0m\u001b[37m\u001b[0m \u001b[1m1s\u001b[0m 1ms/step - accuracy: 0.7565 - loss: 0.5757 - val_accuracy: 0.6565 - val_loss: 0.8400\n",
            "Epoch 33/50\n",
            "\u001b[1m658/658\u001b[0m \u001b[32m━━━━━━━━━━━━━━━━━━━━\u001b[0m\u001b[37m\u001b[0m \u001b[1m1s\u001b[0m 1ms/step - accuracy: 0.7610 - loss: 0.5682 - val_accuracy: 0.6582 - val_loss: 0.8598\n",
            "Epoch 34/50\n",
            "\u001b[1m658/658\u001b[0m \u001b[32m━━━━━━━━━━━━━━━━━━━━\u001b[0m\u001b[37m\u001b[0m \u001b[1m1s\u001b[0m 1ms/step - accuracy: 0.7622 - loss: 0.5588 - val_accuracy: 0.6677 - val_loss: 0.8384\n",
            "Epoch 35/50\n",
            "\u001b[1m658/658\u001b[0m \u001b[32m━━━━━━━━━━━━━━━━━━━━\u001b[0m\u001b[37m\u001b[0m \u001b[1m1s\u001b[0m 1ms/step - accuracy: 0.7598 - loss: 0.5606 - val_accuracy: 0.6600 - val_loss: 0.8289\n",
            "Epoch 36/50\n",
            "\u001b[1m658/658\u001b[0m \u001b[32m━━━━━━━━━━━━━━━━━━━━\u001b[0m\u001b[37m\u001b[0m \u001b[1m2s\u001b[0m 2ms/step - accuracy: 0.7688 - loss: 0.5470 - val_accuracy: 0.6607 - val_loss: 0.8544\n",
            "Epoch 37/50\n",
            "\u001b[1m658/658\u001b[0m \u001b[32m━━━━━━━━━━━━━━━━━━━━\u001b[0m\u001b[37m\u001b[0m \u001b[1m2s\u001b[0m 1ms/step - accuracy: 0.7698 - loss: 0.5489 - val_accuracy: 0.6546 - val_loss: 0.8536\n",
            "Epoch 38/50\n",
            "\u001b[1m658/658\u001b[0m \u001b[32m━━━━━━━━━━━━━━━━━━━━\u001b[0m\u001b[37m\u001b[0m \u001b[1m1s\u001b[0m 1ms/step - accuracy: 0.7753 - loss: 0.5363 - val_accuracy: 0.6594 - val_loss: 0.8623\n",
            "Epoch 39/50\n",
            "\u001b[1m658/658\u001b[0m \u001b[32m━━━━━━━━━━━━━━━━━━━━\u001b[0m\u001b[37m\u001b[0m \u001b[1m1s\u001b[0m 1ms/step - accuracy: 0.7723 - loss: 0.5392 - val_accuracy: 0.6649 - val_loss: 0.8529\n",
            "Epoch 40/50\n",
            "\u001b[1m658/658\u001b[0m \u001b[32m━━━━━━━━━━━━━━━━━━━━\u001b[0m\u001b[37m\u001b[0m \u001b[1m1s\u001b[0m 1ms/step - accuracy: 0.7786 - loss: 0.5235 - val_accuracy: 0.6533 - val_loss: 0.8675\n",
            "Epoch 41/50\n",
            "\u001b[1m658/658\u001b[0m \u001b[32m━━━━━━━━━━━━━━━━━━━━\u001b[0m\u001b[37m\u001b[0m \u001b[1m1s\u001b[0m 1ms/step - accuracy: 0.7760 - loss: 0.5222 - val_accuracy: 0.6582 - val_loss: 0.8839\n",
            "Epoch 42/50\n",
            "\u001b[1m658/658\u001b[0m \u001b[32m━━━━━━━━━━━━━━━━━━━━\u001b[0m\u001b[37m\u001b[0m \u001b[1m1s\u001b[0m 1ms/step - accuracy: 0.7835 - loss: 0.5193 - val_accuracy: 0.6613 - val_loss: 0.8889\n",
            "Epoch 43/50\n",
            "\u001b[1m658/658\u001b[0m \u001b[32m━━━━━━━━━━━━━━━━━━━━\u001b[0m\u001b[37m\u001b[0m \u001b[1m1s\u001b[0m 1ms/step - accuracy: 0.7781 - loss: 0.5266 - val_accuracy: 0.6596 - val_loss: 0.9235\n",
            "Epoch 44/50\n",
            "\u001b[1m658/658\u001b[0m \u001b[32m━━━━━━━━━━━━━━━━━━━━\u001b[0m\u001b[37m\u001b[0m \u001b[1m1s\u001b[0m 2ms/step - accuracy: 0.7797 - loss: 0.5181 - val_accuracy: 0.6529 - val_loss: 0.9136\n",
            "Epoch 45/50\n",
            "\u001b[1m658/658\u001b[0m \u001b[32m━━━━━━━━━━━━━━━━━━━━\u001b[0m\u001b[37m\u001b[0m \u001b[1m2s\u001b[0m 2ms/step - accuracy: 0.7888 - loss: 0.5096 - val_accuracy: 0.6487 - val_loss: 0.9323\n",
            "Epoch 46/50\n",
            "\u001b[1m658/658\u001b[0m \u001b[32m━━━━━━━━━━━━━━━━━━━━\u001b[0m\u001b[37m\u001b[0m \u001b[1m1s\u001b[0m 1ms/step - accuracy: 0.7870 - loss: 0.5024 - val_accuracy: 0.6573 - val_loss: 0.9358\n",
            "Epoch 47/50\n",
            "\u001b[1m658/658\u001b[0m \u001b[32m━━━━━━━━━━━━━━━━━━━━\u001b[0m\u001b[37m\u001b[0m \u001b[1m1s\u001b[0m 1ms/step - accuracy: 0.7864 - loss: 0.5049 - val_accuracy: 0.6522 - val_loss: 0.9350\n",
            "Epoch 48/50\n",
            "\u001b[1m658/658\u001b[0m \u001b[32m━━━━━━━━━━━━━━━━━━━━\u001b[0m\u001b[37m\u001b[0m \u001b[1m1s\u001b[0m 1ms/step - accuracy: 0.7902 - loss: 0.4947 - val_accuracy: 0.6520 - val_loss: 0.9534\n",
            "Epoch 49/50\n",
            "\u001b[1m658/658\u001b[0m \u001b[32m━━━━━━━━━━━━━━━━━━━━\u001b[0m\u001b[37m\u001b[0m \u001b[1m1s\u001b[0m 1ms/step - accuracy: 0.7895 - loss: 0.4980 - val_accuracy: 0.6501 - val_loss: 0.9533\n",
            "Epoch 50/50\n",
            "\u001b[1m658/658\u001b[0m \u001b[32m━━━━━━━━━━━━━━━━━━━━\u001b[0m\u001b[37m\u001b[0m \u001b[1m1s\u001b[0m 1ms/step - accuracy: 0.7947 - loss: 0.4944 - val_accuracy: 0.6480 - val_loss: 0.9665\n"
          ]
        },
        {
          "output_type": "execute_result",
          "data": {
            "text/plain": [
              "<keras.src.callbacks.history.History at 0x7a856f925b10>"
            ]
          },
          "metadata": {},
          "execution_count": 23
        }
      ]
    },
    {
      "cell_type": "code",
      "source": [
        "loss, accuracy = model.evaluate(X_test, y_test)\n",
        "print(f\"Test Kaybı: {loss}, Test Doğruluğu: {accuracy}\")"
      ],
      "metadata": {
        "colab": {
          "base_uri": "https://localhost:8080/"
        },
        "id": "aLVchSyJZ9p2",
        "outputId": "4abaa34a-92d9-4726-fbd9-e6f0060aa5a2"
      },
      "execution_count": 24,
      "outputs": [
        {
          "output_type": "stream",
          "name": "stdout",
          "text": [
            "\u001b[1m206/206\u001b[0m \u001b[32m━━━━━━━━━━━━━━━━━━━━\u001b[0m\u001b[37m\u001b[0m \u001b[1m0s\u001b[0m 803us/step - accuracy: 0.6672 - loss: 0.9325\n",
            "Test Kaybı: 0.9262738227844238, Test Doğruluğu: 0.6718369722366333\n"
          ]
        }
      ]
    },
    {
      "cell_type": "code",
      "source": [
        "import tensorflow as tf\n",
        "from tensorflow.keras.callbacks import EarlyStopping\n",
        "from tensorflow.keras.optimizers import Adam"
      ],
      "metadata": {
        "id": "u8c_OkFph9Tp"
      },
      "execution_count": 50,
      "outputs": []
    },
    {
      "cell_type": "code",
      "source": [
        "y_train_resampled = to_categorical(y_train_resampled)\n",
        "y_test = to_categorical(y_test)"
      ],
      "metadata": {
        "id": "TKGiK2avhpoD"
      },
      "execution_count": 37,
      "outputs": []
    },
    {
      "cell_type": "code",
      "source": [
        "def build_model(learning_rate=0.001, dropout_rate=0.3):\n",
        "    model = Sequential()\n",
        "    model.add(Dense(128, input_dim=X_train_resampled.shape[1], activation='relu'))\n",
        "    model.add(Dropout(dropout_rate))\n",
        "    model.add(Dense(64, activation='relu'))\n",
        "    model.add(Dropout(dropout_rate))\n",
        "    model.add(Dense(32, activation='relu'))\n",
        "    model.add(Dense(4, activation='softmax'))  # 4 kategori olduğu için çıktı 4 nöron\n",
        "\n",
        "    # Modelin derlenmesi\n",
        "    optimizer = Adam(learning_rate=learning_rate)\n",
        "    model.compile(loss='categorical_crossentropy', optimizer=optimizer, metrics=['accuracy'])\n",
        "\n",
        "    return model"
      ],
      "metadata": {
        "id": "MOGju_GQhr7o"
      },
      "execution_count": 51,
      "outputs": []
    },
    {
      "cell_type": "code",
      "source": [
        "from tensorflow.keras.layers import Dropout"
      ],
      "metadata": {
        "id": "cyM9PJq9iane"
      },
      "execution_count": 52,
      "outputs": []
    },
    {
      "cell_type": "code",
      "source": [
        "early_stopping = EarlyStopping(monitor='val_loss', patience=10, restore_best_weights=True)"
      ],
      "metadata": {
        "id": "XDhx6-kChtpJ"
      },
      "execution_count": 40,
      "outputs": []
    },
    {
      "cell_type": "code",
      "source": [
        "print(f\"y_train_resampled shape: {y_train_resampled.shape}\")\n",
        "print(f\"y_test shape: {y_test.shape}\")"
      ],
      "metadata": {
        "colab": {
          "base_uri": "https://localhost:8080/"
        },
        "id": "m3LUL4pSi7St",
        "outputId": "e5cde15b-d3a7-441b-8cba-41456f1c55fe"
      },
      "execution_count": 53,
      "outputs": [
        {
          "output_type": "stream",
          "name": "stdout",
          "text": [
            "y_train_resampled shape: (41780, 4, 2, 2)\n",
            "y_test shape: (6576, 4)\n"
          ]
        }
      ]
    },
    {
      "cell_type": "code",
      "source": [
        "model = build_model(learning_rate=0.001, dropout_rate=0.3)\n",
        "history = model.fit(X_train, y_train,\n",
        "                    validation_data=(X_test, y_test),\n",
        "                    epochs=50, batch_size=64, callbacks=[early_stopping])"
      ],
      "metadata": {
        "colab": {
          "base_uri": "https://localhost:8080/"
        },
        "id": "KxILNFnLhw4x",
        "outputId": "998596af-7825-4d6e-9156-3d472815165f"
      },
      "execution_count": 55,
      "outputs": [
        {
          "output_type": "stream",
          "name": "stdout",
          "text": [
            "Epoch 1/50\n",
            "\u001b[1m411/411\u001b[0m \u001b[32m━━━━━━━━━━━━━━━━━━━━\u001b[0m\u001b[37m\u001b[0m \u001b[1m5s\u001b[0m 3ms/step - accuracy: 0.5299 - loss: 1.0255 - val_accuracy: 0.6682 - val_loss: 0.7586\n",
            "Epoch 2/50\n",
            "\u001b[1m411/411\u001b[0m \u001b[32m━━━━━━━━━━━━━━━━━━━━\u001b[0m\u001b[37m\u001b[0m \u001b[1m2s\u001b[0m 2ms/step - accuracy: 0.6369 - loss: 0.8210 - val_accuracy: 0.6762 - val_loss: 0.7450\n",
            "Epoch 3/50\n",
            "\u001b[1m411/411\u001b[0m \u001b[32m━━━━━━━━━━━━━━━━━━━━\u001b[0m\u001b[37m\u001b[0m \u001b[1m1s\u001b[0m 2ms/step - accuracy: 0.6465 - loss: 0.8048 - val_accuracy: 0.6776 - val_loss: 0.7338\n",
            "Epoch 4/50\n",
            "\u001b[1m411/411\u001b[0m \u001b[32m━━━━━━━━━━━━━━━━━━━━\u001b[0m\u001b[37m\u001b[0m \u001b[1m1s\u001b[0m 2ms/step - accuracy: 0.6519 - loss: 0.7946 - val_accuracy: 0.6775 - val_loss: 0.7298\n",
            "Epoch 5/50\n",
            "\u001b[1m411/411\u001b[0m \u001b[32m━━━━━━━━━━━━━━━━━━━━\u001b[0m\u001b[37m\u001b[0m \u001b[1m1s\u001b[0m 2ms/step - accuracy: 0.6606 - loss: 0.7812 - val_accuracy: 0.6749 - val_loss: 0.7332\n",
            "Epoch 6/50\n",
            "\u001b[1m411/411\u001b[0m \u001b[32m━━━━━━━━━━━━━━━━━━━━\u001b[0m\u001b[37m\u001b[0m \u001b[1m1s\u001b[0m 2ms/step - accuracy: 0.6508 - loss: 0.7785 - val_accuracy: 0.6810 - val_loss: 0.7295\n",
            "Epoch 7/50\n",
            "\u001b[1m411/411\u001b[0m \u001b[32m━━━━━━━━━━━━━━━━━━━━\u001b[0m\u001b[37m\u001b[0m \u001b[1m1s\u001b[0m 2ms/step - accuracy: 0.6661 - loss: 0.7681 - val_accuracy: 0.6807 - val_loss: 0.7236\n",
            "Epoch 8/50\n",
            "\u001b[1m411/411\u001b[0m \u001b[32m━━━━━━━━━━━━━━━━━━━━\u001b[0m\u001b[37m\u001b[0m \u001b[1m1s\u001b[0m 2ms/step - accuracy: 0.6602 - loss: 0.7705 - val_accuracy: 0.6816 - val_loss: 0.7160\n",
            "Epoch 9/50\n",
            "\u001b[1m411/411\u001b[0m \u001b[32m━━━━━━━━━━━━━━━━━━━━\u001b[0m\u001b[37m\u001b[0m \u001b[1m1s\u001b[0m 2ms/step - accuracy: 0.6678 - loss: 0.7638 - val_accuracy: 0.6826 - val_loss: 0.7187\n",
            "Epoch 10/50\n",
            "\u001b[1m411/411\u001b[0m \u001b[32m━━━━━━━━━━━━━━━━━━━━\u001b[0m\u001b[37m\u001b[0m \u001b[1m1s\u001b[0m 2ms/step - accuracy: 0.6633 - loss: 0.7593 - val_accuracy: 0.6817 - val_loss: 0.7186\n",
            "Epoch 11/50\n",
            "\u001b[1m411/411\u001b[0m \u001b[32m━━━━━━━━━━━━━━━━━━━━\u001b[0m\u001b[37m\u001b[0m \u001b[1m1s\u001b[0m 2ms/step - accuracy: 0.6722 - loss: 0.7644 - val_accuracy: 0.6872 - val_loss: 0.7118\n",
            "Epoch 12/50\n",
            "\u001b[1m411/411\u001b[0m \u001b[32m━━━━━━━━━━━━━━━━━━━━\u001b[0m\u001b[37m\u001b[0m \u001b[1m1s\u001b[0m 2ms/step - accuracy: 0.6747 - loss: 0.7541 - val_accuracy: 0.6820 - val_loss: 0.7131\n",
            "Epoch 13/50\n",
            "\u001b[1m411/411\u001b[0m \u001b[32m━━━━━━━━━━━━━━━━━━━━\u001b[0m\u001b[37m\u001b[0m \u001b[1m1s\u001b[0m 2ms/step - accuracy: 0.6676 - loss: 0.7521 - val_accuracy: 0.6875 - val_loss: 0.7089\n",
            "Epoch 14/50\n",
            "\u001b[1m411/411\u001b[0m \u001b[32m━━━━━━━━━━━━━━━━━━━━\u001b[0m\u001b[37m\u001b[0m \u001b[1m1s\u001b[0m 2ms/step - accuracy: 0.6700 - loss: 0.7387 - val_accuracy: 0.6905 - val_loss: 0.7050\n",
            "Epoch 15/50\n",
            "\u001b[1m411/411\u001b[0m \u001b[32m━━━━━━━━━━━━━━━━━━━━\u001b[0m\u001b[37m\u001b[0m \u001b[1m1s\u001b[0m 2ms/step - accuracy: 0.6777 - loss: 0.7403 - val_accuracy: 0.6925 - val_loss: 0.7020\n",
            "Epoch 16/50\n",
            "\u001b[1m411/411\u001b[0m \u001b[32m━━━━━━━━━━━━━━━━━━━━\u001b[0m\u001b[37m\u001b[0m \u001b[1m1s\u001b[0m 2ms/step - accuracy: 0.6745 - loss: 0.7418 - val_accuracy: 0.6899 - val_loss: 0.7068\n",
            "Epoch 17/50\n",
            "\u001b[1m411/411\u001b[0m \u001b[32m━━━━━━━━━━━━━━━━━━━━\u001b[0m\u001b[37m\u001b[0m \u001b[1m1s\u001b[0m 2ms/step - accuracy: 0.6779 - loss: 0.7392 - val_accuracy: 0.6939 - val_loss: 0.7010\n",
            "Epoch 18/50\n",
            "\u001b[1m411/411\u001b[0m \u001b[32m━━━━━━━━━━━━━━━━━━━━\u001b[0m\u001b[37m\u001b[0m \u001b[1m1s\u001b[0m 2ms/step - accuracy: 0.6787 - loss: 0.7349 - val_accuracy: 0.6908 - val_loss: 0.7020\n",
            "Epoch 19/50\n",
            "\u001b[1m411/411\u001b[0m \u001b[32m━━━━━━━━━━━━━━━━━━━━\u001b[0m\u001b[37m\u001b[0m \u001b[1m1s\u001b[0m 2ms/step - accuracy: 0.6797 - loss: 0.7365 - val_accuracy: 0.6930 - val_loss: 0.6982\n",
            "Epoch 20/50\n",
            "\u001b[1m411/411\u001b[0m \u001b[32m━━━━━━━━━━━━━━━━━━━━\u001b[0m\u001b[37m\u001b[0m \u001b[1m1s\u001b[0m 2ms/step - accuracy: 0.6829 - loss: 0.7341 - val_accuracy: 0.6925 - val_loss: 0.6999\n",
            "Epoch 21/50\n",
            "\u001b[1m411/411\u001b[0m \u001b[32m━━━━━━━━━━━━━━━━━━━━\u001b[0m\u001b[37m\u001b[0m \u001b[1m1s\u001b[0m 1ms/step - accuracy: 0.6798 - loss: 0.7338 - val_accuracy: 0.6907 - val_loss: 0.7022\n",
            "Epoch 22/50\n",
            "\u001b[1m411/411\u001b[0m \u001b[32m━━━━━━━━━━━━━━━━━━━━\u001b[0m\u001b[37m\u001b[0m \u001b[1m1s\u001b[0m 2ms/step - accuracy: 0.6849 - loss: 0.7180 - val_accuracy: 0.6927 - val_loss: 0.7001\n",
            "Epoch 23/50\n",
            "\u001b[1m411/411\u001b[0m \u001b[32m━━━━━━━━━━━━━━━━━━━━\u001b[0m\u001b[37m\u001b[0m \u001b[1m1s\u001b[0m 2ms/step - accuracy: 0.6838 - loss: 0.7209 - val_accuracy: 0.6940 - val_loss: 0.6986\n",
            "Epoch 24/50\n",
            "\u001b[1m411/411\u001b[0m \u001b[32m━━━━━━━━━━━━━━━━━━━━\u001b[0m\u001b[37m\u001b[0m \u001b[1m1s\u001b[0m 2ms/step - accuracy: 0.6902 - loss: 0.7188 - val_accuracy: 0.6951 - val_loss: 0.6944\n",
            "Epoch 25/50\n",
            "\u001b[1m411/411\u001b[0m \u001b[32m━━━━━━━━━━━━━━━━━━━━\u001b[0m\u001b[37m\u001b[0m \u001b[1m1s\u001b[0m 2ms/step - accuracy: 0.6884 - loss: 0.7146 - val_accuracy: 0.6939 - val_loss: 0.6955\n",
            "Epoch 26/50\n",
            "\u001b[1m411/411\u001b[0m \u001b[32m━━━━━━━━━━━━━━━━━━━━\u001b[0m\u001b[37m\u001b[0m \u001b[1m1s\u001b[0m 2ms/step - accuracy: 0.6876 - loss: 0.7178 - val_accuracy: 0.7016 - val_loss: 0.6902\n",
            "Epoch 27/50\n",
            "\u001b[1m411/411\u001b[0m \u001b[32m━━━━━━━━━━━━━━━━━━━━\u001b[0m\u001b[37m\u001b[0m \u001b[1m1s\u001b[0m 2ms/step - accuracy: 0.6848 - loss: 0.7257 - val_accuracy: 0.7001 - val_loss: 0.6905\n",
            "Epoch 28/50\n",
            "\u001b[1m411/411\u001b[0m \u001b[32m━━━━━━━━━━━━━━━━━━━━\u001b[0m\u001b[37m\u001b[0m \u001b[1m1s\u001b[0m 2ms/step - accuracy: 0.6853 - loss: 0.7218 - val_accuracy: 0.7026 - val_loss: 0.6897\n",
            "Epoch 29/50\n",
            "\u001b[1m411/411\u001b[0m \u001b[32m━━━━━━━━━━━━━━━━━━━━\u001b[0m\u001b[37m\u001b[0m \u001b[1m1s\u001b[0m 2ms/step - accuracy: 0.6871 - loss: 0.7132 - val_accuracy: 0.7007 - val_loss: 0.6884\n",
            "Epoch 30/50\n",
            "\u001b[1m411/411\u001b[0m \u001b[32m━━━━━━━━━━━━━━━━━━━━\u001b[0m\u001b[37m\u001b[0m \u001b[1m1s\u001b[0m 2ms/step - accuracy: 0.6880 - loss: 0.7131 - val_accuracy: 0.7013 - val_loss: 0.6841\n",
            "Epoch 31/50\n",
            "\u001b[1m411/411\u001b[0m \u001b[32m━━━━━━━━━━━━━━━━━━━━\u001b[0m\u001b[37m\u001b[0m \u001b[1m1s\u001b[0m 2ms/step - accuracy: 0.6895 - loss: 0.7197 - val_accuracy: 0.7035 - val_loss: 0.6841\n",
            "Epoch 32/50\n",
            "\u001b[1m411/411\u001b[0m \u001b[32m━━━━━━━━━━━━━━━━━━━━\u001b[0m\u001b[37m\u001b[0m \u001b[1m1s\u001b[0m 2ms/step - accuracy: 0.6908 - loss: 0.7077 - val_accuracy: 0.7015 - val_loss: 0.6881\n",
            "Epoch 33/50\n",
            "\u001b[1m411/411\u001b[0m \u001b[32m━━━━━━━━━━━━━━━━━━━━\u001b[0m\u001b[37m\u001b[0m \u001b[1m1s\u001b[0m 2ms/step - accuracy: 0.6905 - loss: 0.7056 - val_accuracy: 0.6995 - val_loss: 0.6861\n",
            "Epoch 34/50\n",
            "\u001b[1m411/411\u001b[0m \u001b[32m━━━━━━━━━━━━━━━━━━━━\u001b[0m\u001b[37m\u001b[0m \u001b[1m1s\u001b[0m 2ms/step - accuracy: 0.6924 - loss: 0.7052 - val_accuracy: 0.7023 - val_loss: 0.6832\n",
            "Epoch 35/50\n",
            "\u001b[1m411/411\u001b[0m \u001b[32m━━━━━━━━━━━━━━━━━━━━\u001b[0m\u001b[37m\u001b[0m \u001b[1m1s\u001b[0m 2ms/step - accuracy: 0.6939 - loss: 0.7045 - val_accuracy: 0.7032 - val_loss: 0.6847\n",
            "Epoch 36/50\n",
            "\u001b[1m411/411\u001b[0m \u001b[32m━━━━━━━━━━━━━━━━━━━━\u001b[0m\u001b[37m\u001b[0m \u001b[1m1s\u001b[0m 2ms/step - accuracy: 0.6954 - loss: 0.7072 - val_accuracy: 0.7059 - val_loss: 0.6805\n",
            "Epoch 37/50\n",
            "\u001b[1m411/411\u001b[0m \u001b[32m━━━━━━━━━━━━━━━━━━━━\u001b[0m\u001b[37m\u001b[0m \u001b[1m1s\u001b[0m 2ms/step - accuracy: 0.6934 - loss: 0.7072 - val_accuracy: 0.7035 - val_loss: 0.6844\n",
            "Epoch 38/50\n",
            "\u001b[1m411/411\u001b[0m \u001b[32m━━━━━━━━━━━━━━━━━━━━\u001b[0m\u001b[37m\u001b[0m \u001b[1m1s\u001b[0m 2ms/step - accuracy: 0.6958 - loss: 0.7017 - val_accuracy: 0.7015 - val_loss: 0.6855\n",
            "Epoch 39/50\n",
            "\u001b[1m411/411\u001b[0m \u001b[32m━━━━━━━━━━━━━━━━━━━━\u001b[0m\u001b[37m\u001b[0m \u001b[1m1s\u001b[0m 2ms/step - accuracy: 0.6933 - loss: 0.7003 - val_accuracy: 0.7050 - val_loss: 0.6826\n",
            "Epoch 40/50\n",
            "\u001b[1m411/411\u001b[0m \u001b[32m━━━━━━━━━━━━━━━━━━━━\u001b[0m\u001b[37m\u001b[0m \u001b[1m1s\u001b[0m 2ms/step - accuracy: 0.6980 - loss: 0.6978 - val_accuracy: 0.7083 - val_loss: 0.6829\n",
            "Epoch 41/50\n",
            "\u001b[1m411/411\u001b[0m \u001b[32m━━━━━━━━━━━━━━━━━━━━\u001b[0m\u001b[37m\u001b[0m \u001b[1m1s\u001b[0m 2ms/step - accuracy: 0.6979 - loss: 0.7021 - val_accuracy: 0.6991 - val_loss: 0.6832\n",
            "Epoch 42/50\n",
            "\u001b[1m411/411\u001b[0m \u001b[32m━━━━━━━━━━━━━━━━━━━━\u001b[0m\u001b[37m\u001b[0m \u001b[1m1s\u001b[0m 2ms/step - accuracy: 0.6969 - loss: 0.6995 - val_accuracy: 0.7045 - val_loss: 0.6914\n",
            "Epoch 43/50\n",
            "\u001b[1m411/411\u001b[0m \u001b[32m━━━━━━━━━━━━━━━━━━━━\u001b[0m\u001b[37m\u001b[0m \u001b[1m1s\u001b[0m 2ms/step - accuracy: 0.6980 - loss: 0.6973 - val_accuracy: 0.7059 - val_loss: 0.6797\n",
            "Epoch 44/50\n",
            "\u001b[1m411/411\u001b[0m \u001b[32m━━━━━━━━━━━━━━━━━━━━\u001b[0m\u001b[37m\u001b[0m \u001b[1m1s\u001b[0m 2ms/step - accuracy: 0.7011 - loss: 0.6897 - val_accuracy: 0.7053 - val_loss: 0.6803\n",
            "Epoch 45/50\n",
            "\u001b[1m411/411\u001b[0m \u001b[32m━━━━━━━━━━━━━━━━━━━━\u001b[0m\u001b[37m\u001b[0m \u001b[1m1s\u001b[0m 2ms/step - accuracy: 0.6974 - loss: 0.6964 - val_accuracy: 0.7019 - val_loss: 0.6834\n",
            "Epoch 46/50\n",
            "\u001b[1m411/411\u001b[0m \u001b[32m━━━━━━━━━━━━━━━━━━━━\u001b[0m\u001b[37m\u001b[0m \u001b[1m1s\u001b[0m 2ms/step - accuracy: 0.6997 - loss: 0.6947 - val_accuracy: 0.7073 - val_loss: 0.6797\n",
            "Epoch 47/50\n",
            "\u001b[1m411/411\u001b[0m \u001b[32m━━━━━━━━━━━━━━━━━━━━\u001b[0m\u001b[37m\u001b[0m \u001b[1m1s\u001b[0m 2ms/step - accuracy: 0.6926 - loss: 0.6983 - val_accuracy: 0.7053 - val_loss: 0.6753\n",
            "Epoch 48/50\n",
            "\u001b[1m411/411\u001b[0m \u001b[32m━━━━━━━━━━━━━━━━━━━━\u001b[0m\u001b[37m\u001b[0m \u001b[1m1s\u001b[0m 2ms/step - accuracy: 0.6990 - loss: 0.6974 - val_accuracy: 0.7118 - val_loss: 0.6751\n",
            "Epoch 49/50\n",
            "\u001b[1m411/411\u001b[0m \u001b[32m━━━━━━━━━━━━━━━━━━━━\u001b[0m\u001b[37m\u001b[0m \u001b[1m1s\u001b[0m 2ms/step - accuracy: 0.6992 - loss: 0.6907 - val_accuracy: 0.7068 - val_loss: 0.6766\n",
            "Epoch 50/50\n",
            "\u001b[1m411/411\u001b[0m \u001b[32m━━━━━━━━━━━━━━━━━━━━\u001b[0m\u001b[37m\u001b[0m \u001b[1m1s\u001b[0m 2ms/step - accuracy: 0.7023 - loss: 0.6909 - val_accuracy: 0.7097 - val_loss: 0.6774\n"
          ]
        }
      ]
    },
    {
      "cell_type": "code",
      "source": [
        "test_loss, test_acc = model.evaluate(X_test, y_test)\n",
        "print(f\"Test Kaybı: {test_loss}, Test Doğruluğu: {test_acc}\")"
      ],
      "metadata": {
        "colab": {
          "base_uri": "https://localhost:8080/"
        },
        "id": "bQKtWVQnhz12",
        "outputId": "6350998e-92c8-4a07-8d84-a055c4c7e18e"
      },
      "execution_count": 56,
      "outputs": [
        {
          "output_type": "stream",
          "name": "stdout",
          "text": [
            "\u001b[1m206/206\u001b[0m \u001b[32m━━━━━━━━━━━━━━━━━━━━\u001b[0m\u001b[37m\u001b[0m \u001b[1m0s\u001b[0m 1ms/step - accuracy: 0.7166 - loss: 0.6759\n",
            "Test Kaybı: 0.6750633716583252, Test Doğruluğu: 0.7118309140205383\n"
          ]
        }
      ]
    },
    {
      "cell_type": "code",
      "source": [
        "import matplotlib.pyplot as plt\n",
        "\n",
        "# Eğitim ve doğrulama kaybı\n",
        "plt.plot(history.history['loss'], label='Eğitim Kaybı')\n",
        "plt.plot(history.history['val_loss'], label='Doğrulama Kaybı')\n",
        "plt.title('Eğitim ve Doğrulama Kaybı')\n",
        "plt.xlabel('Epoch')\n",
        "plt.ylabel('Kaybı')\n",
        "plt.legend()\n",
        "plt.show()\n",
        "\n",
        "# Eğitim ve doğrulama doğruluğu\n",
        "plt.plot(history.history['accuracy'], label='Eğitim Doğruluğu')\n",
        "plt.plot(history.history['val_accuracy'], label='Doğrulama Doğruluğu')\n",
        "plt.title('Eğitim ve Doğrulama Doğruluğu')\n",
        "plt.xlabel('Epoch')\n",
        "plt.ylabel('Doğruluk')\n",
        "plt.legend()\n",
        "plt.show()"
      ],
      "metadata": {
        "colab": {
          "base_uri": "https://localhost:8080/",
          "height": 927
        },
        "id": "dZFaDF-Gh16r",
        "outputId": "05e97435-65e6-4313-cb9e-c160f1871ccd"
      },
      "execution_count": 57,
      "outputs": [
        {
          "output_type": "display_data",
          "data": {
            "text/plain": [
              "<Figure size 640x480 with 1 Axes>"
            ],
            "image/png": "[encoded data removed]"
          },
          "metadata": {}
        },
        {
          "output_type": "display_data",
          "data": {
            "text/plain": [
              "<Figure size 640x480 with 1 Axes>"
            ],
            "image/png": "[encoded data removed]"
          },
          "metadata": {}
        }
      ]
    },
    {
      "cell_type": "code",
      "source": [
        "model.save('web_site_classification_model.h5')"
      ],
      "metadata": {
        "colab": {
          "base_uri": "https://localhost:8080/"
        },
        "id": "j9m7YIZMkfEt",
        "outputId": "0f04dcfb-f592-4d17-e8c6-c29b6bff2a0d"
      },
      "execution_count": 58,
      "outputs": [
        {
          "output_type": "stream",
          "name": "stderr",
          "text": [
            "WARNING:absl:You are saving your model as an HDF5 file via `model.save()` or `keras.saving.save_model(model)`. This file format is considered legacy. We recommend using instead the native Keras format, e.g. `model.save('my_model.keras')` or `keras.saving.save_model(model, 'my_model.keras')`. \n"
          ]
        }
      ]
    },
    {
      "cell_type": "code",
      "source": [
        "from google.colab import drive\n",
        "drive.mount('/content/drive')"
      ],
      "metadata": {
        "id": "i0sx7viVkwgP"
      },
      "execution_count": null,
      "outputs": []
    }
  ],
  "metadata": {
    "colab": {
      "name": "Colaboratory'ye Hoş Geldiniz",
      "provenance": []
    },
    "kernelspec": {
      "display_name": "Python 3",
      "name": "python3"
    }
  },
  "nbformat": 4,
  "nbformat_minor": 0
}